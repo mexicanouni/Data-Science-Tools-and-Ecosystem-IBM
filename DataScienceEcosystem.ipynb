{
  "cells": [
    {
      "cell_type": "markdown",
      "metadata": {},
      "source": [
        "# Data Science Tools and Ecosystem"
      ]
    },
    {
      "cell_type": "markdown",
      "metadata": {},
      "source": [
        "### » In this notebook, the tools and ecosystem of data science are summarized."
      ]
    },
    {
      "cell_type": "markdown",
      "metadata": {},
      "source": [
        "#### **Objectives:** 📌\n",
        "* List popular languages for Data Science.\n",
        "* List common libraries.\n",
        "* Data Science Tools Table.\n",
        "* Examples of simple arithmetic expressions."
      ]
    },
    {
      "cell_type": "markdown",
      "metadata": {},
      "source": [
        "##### 🌐 Some of the popular languages that Data Scientists use are:  \n",
        "1.  JavaScript  \n",
        "2.  Python  \n",
        "3.  MATLAB  \n",
        "4.  Java  \n",
        "5.  SQL  \n",
        "6.  R"
      ]
    },
    {
      "cell_type": "markdown",
      "metadata": {},
      "source": [
        "##### 🗃️ Some of the commonly used libraries used by Data Scientists include:  \n",
        "1. Statsmodels  \n",
        "2. Matplotlib  \n",
        "3. LightGBM  \n",
        "4. Pandas  \n",
        "5. NumPy  \n",
        "6. Seaborn"
      ]
    },
    {
      "cell_type": "markdown",
      "metadata": {},
      "source": [
        "| Data Science Tools |\n",
        "|--------------------|\n",
        "| Jupyter Notebooks |\n",
        "| Pytorch |\n",
        "| Scikit-learn |"
      ]
    },
    {
      "cell_type": "markdown",
      "metadata": {},
      "source": [
        "##### 🧮 Below are a few examples of evaluating arithmetic expressions in Python"
      ]
    },
    {
      "cell_type": "code",
      "execution_count": 9,
      "metadata": {
        "trusted": true
      },
      "outputs": [
        {
          "data": {
            "text/plain": [
              "17"
            ]
          },
          "execution_count": 9,
          "metadata": {},
          "output_type": "execute_result"
        }
      ],
      "source": [
        "# This a simple arithmetic expression to mutiply then add integers:\n",
        "(3*4)+5"
      ]
    },
    {
      "cell_type": "code",
      "execution_count": 24,
      "metadata": {
        "trusted": true
      },
      "outputs": [
        {
          "name": "stdout",
          "output_type": "stream",
          "text": [
            "200 Minutes = 3.3333333333333335 Hours\n"
          ]
        }
      ],
      "source": [
        "# This will convert 200 minutes to hours by diving by 60:\n",
        "#Variable:\n",
        "Minutes = 200\n",
        "# We proceed using the formula: (Hours = Minutes/60)\n",
        "print(str(Minutes) + \" Minutes = \" + str(Minutes/60) + \" Hours\")"
      ]
    },
    {
      "cell_type": "markdown",
      "metadata": {},
      "source": [
        "## Author:\n",
        "### ➥Olivares Meneses (July, 2024)"
      ]
    }
  ],
  "metadata": {
    "kernelspec": {
      "display_name": "Python (Pyodide)",
      "language": "python",
      "name": "python"
    },
    "language_info": {
      "codemirror_mode": {
        "name": "python",
        "version": 3
      },
      "file_extension": ".py",
      "mimetype": "text/x-python",
      "name": "python",
      "nbconvert_exporter": "python",
      "pygments_lexer": "ipython3",
      "version": "3.8"
    }
  },
  "nbformat": 4,
  "nbformat_minor": 4
}
